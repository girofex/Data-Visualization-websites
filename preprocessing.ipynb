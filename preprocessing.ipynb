{
 "cells": [
  {
   "cell_type": "code",
   "execution_count": 1,
   "id": "01f141f5",
   "metadata": {},
   "outputs": [],
   "source": [
    "import pandas as pd\n",
    "import numpy as np"
   ]
  },
  {
   "cell_type": "code",
   "execution_count": 7,
   "id": "36e43efd",
   "metadata": {},
   "outputs": [],
   "source": [
    "africa = pd.read_csv(\"resources/Africa_aggregated_data_up_to-2025-10-18.csv\")\n",
    "asia_pacific = pd.read_csv(\"resources/Asia-Pacific_aggregated_data_up_to-2025-10-11_0.csv\")\n",
    "europe_central_asia = pd.read_csv(\"resources/Europe-Central-Asia_aggregated_data_up_to-2025-10-11.csv\")\n",
    "latin_america_caribbean = pd.read_csv(\"resources/Latin-America-the-Caribbean_aggregated_data_up_to-2025-10-18.csv\")\n",
    "middle_east = pd.read_csv(\"resources/Middle-East_aggregated_data_up_to-2025-10-18.csv\")\n",
    "us_canada = pd.read_csv(\"resources/US-and-Canada_aggregated_data_up_to-2025-10-11_0.csv\")"
   ]
  }
 ],
 "metadata": {
  "kernelspec": {
   "display_name": "Python 3",
   "language": "python",
   "name": "python3"
  },
  "language_info": {
   "codemirror_mode": {
    "name": "ipython",
    "version": 3
   },
   "file_extension": ".py",
   "mimetype": "text/x-python",
   "name": "python",
   "nbconvert_exporter": "python",
   "pygments_lexer": "ipython3",
   "version": "3.13.2"
  }
 },
 "nbformat": 4,
 "nbformat_minor": 5
}
