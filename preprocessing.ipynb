{
 "cells": [
  {
   "cell_type": "code",
   "execution_count": 19,
   "id": "01f141f5",
   "metadata": {},
   "outputs": [],
   "source": [
    "import pandas as pd\n",
    "import numpy as np"
   ]
  },
  {
   "cell_type": "markdown",
   "id": "4ffd5bd2",
   "metadata": {},
   "source": [
    "<h3>Reading csv</h3>"
   ]
  },
  {
   "cell_type": "code",
   "execution_count": 20,
   "id": "36e43efd",
   "metadata": {},
   "outputs": [],
   "source": [
    "africa = pd.read_csv(\"resources/og/Africa_aggregated_data_up_to-2025-10-18.csv\")\n",
    "asia_pacific = pd.read_csv(\"resources/og/Asia-Pacific_aggregated_data_up_to-2025-10-11_0.csv\")\n",
    "europe_central_asia = pd.read_csv(\"resources/og/Europe-Central-Asia_aggregated_data_up_to-2025-10-11.csv\")\n",
    "latin_america_caribbean = pd.read_csv(\"resources/og/Latin-America-the-Caribbean_aggregated_data_up_to-2025-10-18.csv\")\n",
    "middle_east = pd.read_csv(\"resources/og/Middle-East_aggregated_data_up_to-2025-10-18.csv\")\n",
    "us_canada = pd.read_csv(\"resources/og/US-and-Canada_aggregated_data_up_to-2025-10-11_0.csv\")"
   ]
  },
  {
   "cell_type": "markdown",
   "id": "3b71b715",
   "metadata": {},
   "source": [
    "<h3>Cleaning</h3>"
   ]
  },
  {
   "cell_type": "code",
   "execution_count": 21,
   "id": "c75f19f2",
   "metadata": {},
   "outputs": [],
   "source": [
    "def preprocess_region(df):\n",
    "    df_cleaned = df.dropna(subset=[\"POPULATION_EXPOSURE\"])\n",
    "    df_cleaned = df_cleaned.drop(columns=[\"WEEK\", \"COUNTRY\", \"ADMIN1\", \"FATALITIES\", \"ID\", \"CENTROID_LATITUDE\", \"CENTROID_LONGITUDE\"])\n",
    "    \n",
    "    return df_cleaned\n",
    "\n",
    "africa_cleaned = preprocess_region(africa)\n",
    "asia_pacific_cleaned = preprocess_region(asia_pacific)\n",
    "europe_central_asia_cleaned = preprocess_region(europe_central_asia)\n",
    "latin_america_caribbean_cleaned = preprocess_region(latin_america_caribbean)\n",
    "middle_east_cleaned = preprocess_region(middle_east)\n",
    "us_canada_cleaned = preprocess_region(us_canada)\n",
    "\n",
    "africa_cleaned.to_csv(\"resources/africa_cleaned.csv\", index=False)\n",
    "asia_pacific_cleaned.to_csv(\"resources/asia_pacific_cleaned.csv\", index=False)\n",
    "europe_central_asia_cleaned.to_csv(\"resources/europe_central_asia_cleaned.csv\", index=False)\n",
    "latin_america_caribbean_cleaned.to_csv(\"resources/latin_america_caribbean_cleaned.csv\", index=False)\n",
    "middle_east_cleaned.to_csv(\"resources/middle_east_cleaned.csv\", index=False)\n",
    "us_canada_cleaned.to_csv(\"resources/us_canada_cleaned.csv\", index=False)"
   ]
  },
  {
   "cell_type": "markdown",
   "id": "1e54977c",
   "metadata": {},
   "source": [
    "### Code to preprocess the data for the specific visualizations"
   ]
  },
  {
   "cell_type": "code",
   "execution_count": 22,
   "id": "1dc5f689",
   "metadata": {},
   "outputs": [],
   "source": [
    "# Bar chart: events per region\n",
    "\n",
    "# AFRICA\n",
    "africa_bar = africa_cleaned[\"EVENTS\"].sum()\n",
    "# ASIA PACIFIC\n",
    "asia_pacific_bar = asia_pacific_cleaned[\"EVENTS\"].sum()\n",
    "# EUROPE CENTRAL ASIA\n",
    "europe_central_asia_bar = europe_central_asia_cleaned[\"EVENTS\"].sum()\n",
    "# LATIN AMERICA CARRIBEAN\n",
    "latin_america_caribbean_bar = latin_america_caribbean_cleaned[\"EVENTS\"].sum()\n",
    "# MIDDLE EAST\n",
    "middle_east_bar = middle_east_cleaned[\"EVENTS\"].sum()\n",
    "# US CANADA\n",
    "us_canada_bar = us_canada_cleaned[\"EVENTS\"].sum()\n",
    "\n",
    "# Create the dataframe and save it as csv\n",
    "bar_data = pd.DataFrame({\n",
    "\t\"Region\": [\"Africa\", \"Asia Pacific\", \"Europe Central Asia\", \"Latin America Caribbean\", \"Middle East\", \"US Canada\"],\n",
    "\t\"Total Events\": [africa_bar, asia_pacific_bar, europe_central_asia_bar, latin_america_caribbean_bar, middle_east_bar, us_canada_bar]\n",
    "})\n",
    "\n",
    "bar_data.to_csv(\"resources/plots/bar_data.csv\", index=False)"
   ]
  },
  {
   "cell_type": "code",
   "execution_count": 23,
   "id": "e89a25f6",
   "metadata": {},
   "outputs": [],
   "source": [
    "# Grouped bar chart: battles vs violence against civilians per region\n",
    "\n",
    "# AFRICA\n",
    "africa_cleaned_grouped = africa_cleaned.groupby(\"EVENT_TYPE\")[\"EVENTS\"].sum()\n",
    "africa_battles = africa_cleaned_grouped.get(\"Battles\", 0)\n",
    "africa_violence_against_civilians = africa_cleaned_grouped.get(\"Violence against civilians\", 0)\n",
    "\n",
    "# ASIA PACIFIC\n",
    "asia_pacific_cleaned_grouped = asia_pacific_cleaned.groupby(\"EVENT_TYPE\")[\"EVENTS\"].sum()\n",
    "asia_pacific_battles = asia_pacific_cleaned_grouped.get(\"Battles\", 0)\n",
    "asia_pacific_violence_against_civilians = asia_pacific_cleaned_grouped.get(\"Violence against civilians\", 0)\n",
    "\n",
    "# EUROPE CENTRAL ASIA\n",
    "europe_central_asia_cleaned_grouped = europe_central_asia_cleaned.groupby(\"EVENT_TYPE\")[\"EVENTS\"].sum()\n",
    "europe_central_asia_battles = europe_central_asia_cleaned_grouped.get(\"Battles\", 0)\n",
    "europe_central_asia_violence_against_civilians = europe_central_asia_cleaned_grouped.get(\"Violence against civilians\", 0)\n",
    "\n",
    "# LATIN AMERICA CARRIBEAN\n",
    "latin_america_caribbean_grouped = latin_america_caribbean_cleaned.groupby(\"EVENT_TYPE\")[\"EVENTS\"].sum()\n",
    "latin_america_caribbean_battles = latin_america_caribbean_grouped.get(\"Battles\", 0)\n",
    "latin_america_caribbean_violence_against_civilians = latin_america_caribbean_grouped.get(\"Violence against civilians\", 0)\n",
    "\n",
    "# MIDDLE EAST\n",
    "middle_east_grouped = middle_east_cleaned.groupby(\"EVENT_TYPE\")[\"EVENTS\"].sum()\n",
    "middle_east_battles = middle_east_grouped.get(\"Battles\", 0)\n",
    "middle_east_violence_against_civilians = middle_east_grouped.get(\"Violence against civilians\", 0)\n",
    "\n",
    "# US CANADA\n",
    "us_canada_grouped = us_canada_cleaned.groupby(\"EVENT_TYPE\")[\"EVENTS\"].sum()\n",
    "us_canada_battles = us_canada_grouped.get(\"Battles\", 0)\n",
    "us_canada_violence_against_civilians = us_canada_grouped.get(\"Violence against civilians\", 0)\n",
    "\n",
    "# Create the dataframe and save it as csv\n",
    "grouped_bar_data = pd.DataFrame({\n",
    "\t\"Region\": [\"Africa\", \"Asia Pacific\", \"Europe Central Asia\", \"Latin America Caribbean\", \"Middle East\", \"US Canada\"],\n",
    "\t\"Battles\": [africa_battles, asia_pacific_battles, europe_central_asia_battles, latin_america_caribbean_battles, middle_east_battles, us_canada_battles],\n",
    "\t\"Violence Against Civilians\": [africa_violence_against_civilians, asia_pacific_violence_against_civilians, europe_central_asia_violence_against_civilians, \n",
    "                                latin_america_caribbean_violence_against_civilians, middle_east_violence_against_civilians, us_canada_violence_against_civilians]\n",
    "})\n",
    "\n",
    "grouped_bar_data.to_csv(\"resources/plots/grouped_bar_data.csv\", index=False)"
   ]
  },
  {
   "cell_type": "code",
   "execution_count": null,
   "id": "d456f79f",
   "metadata": {},
   "outputs": [],
   "source": [
    "# Heatmap: population exposure based on the region and the type of event\n",
    "\n",
    "# AFRICA\n"
   ]
  }
 ],
 "metadata": {
  "kernelspec": {
   "display_name": "Python 3",
   "language": "python",
   "name": "python3"
  },
  "language_info": {
   "codemirror_mode": {
    "name": "ipython",
    "version": 3
   },
   "file_extension": ".py",
   "mimetype": "text/x-python",
   "name": "python",
   "nbconvert_exporter": "python",
   "pygments_lexer": "ipython3",
   "version": "3.13.2"
  }
 },
 "nbformat": 4,
 "nbformat_minor": 5
}
