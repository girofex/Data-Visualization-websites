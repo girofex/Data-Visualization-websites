{
 "cells": [
  {
   "cell_type": "code",
   "execution_count": 1,
   "id": "01f141f5",
   "metadata": {},
   "outputs": [],
   "source": [
    "import pandas as pd\n",
    "import numpy as np"
   ]
  },
  {
   "cell_type": "markdown",
   "id": "4ffd5bd2",
   "metadata": {},
   "source": [
    "<h3>Reading csv</h3>"
   ]
  },
  {
   "cell_type": "code",
   "execution_count": 2,
   "id": "36e43efd",
   "metadata": {},
   "outputs": [],
   "source": [
    "africa = pd.read_csv(\"resources/og/Africa_aggregated_data_up_to-2025-10-18.csv\")\n",
    "asia_pacific = pd.read_csv(\"resources/og/Asia-Pacific_aggregated_data_up_to-2025-10-11_0.csv\")\n",
    "europe_central_asia = pd.read_csv(\"resources/og/Europe-Central-Asia_aggregated_data_up_to-2025-10-11.csv\")\n",
    "latin_america_caribbean = pd.read_csv(\"resources/og/Latin-America-the-Caribbean_aggregated_data_up_to-2025-10-18.csv\")\n",
    "middle_east = pd.read_csv(\"resources/og/Middle-East_aggregated_data_up_to-2025-10-18.csv\")\n",
    "us_canada = pd.read_csv(\"resources/og/US-and-Canada_aggregated_data_up_to-2025-10-11_0.csv\")"
   ]
  },
  {
   "cell_type": "markdown",
   "id": "3b71b715",
   "metadata": {},
   "source": [
    "<h3>Cleaning</h3>"
   ]
  },
  {
   "cell_type": "code",
   "execution_count": 4,
   "id": "c75f19f2",
   "metadata": {},
   "outputs": [],
   "source": [
    "def preprocess_region(df):\n",
    "    df_cleaned = df.dropna(subset=[\"POPULATION_EXPOSURE\"])\n",
    "    df_cleaned = df_cleaned.drop(columns=[\"WEEK\", \"COUNTRY\", \"ADMIN1\", \"FATALITIES\", \"ID\", \"CENTROID_LATITUDE\", \"CENTROID_LONGITUDE\"])\n",
    "    \n",
    "    return df_cleaned\n",
    "\n",
    "africa_cleaned = preprocess_region(africa)\n",
    "asia_pacific_cleaned = preprocess_region(asia_pacific)\n",
    "europe_central_asia_cleaned = preprocess_region(europe_central_asia)\n",
    "latin_america_caribbean_cleaned = preprocess_region(latin_america_caribbean)\n",
    "middle_east_cleaned = preprocess_region(middle_east)\n",
    "us_canada_cleaned = preprocess_region(us_canada)\n",
    "\n",
    "africa_cleaned.to_csv(\"resources/africa_cleaned.csv\", index=False)\n",
    "asia_pacific_cleaned.to_csv(\"resources/asia_pacific_cleaned.csv\", index=False)\n",
    "europe_central_asia_cleaned.to_csv(\"resources/europe_central_asia_cleaned.csv\", index=False)\n",
    "latin_america_caribbean_cleaned.to_csv(\"resources/latin_america_caribbean_cleaned.csv\", index=False)\n",
    "middle_east_cleaned.to_csv(\"resources/middle_east_cleaned.csv\", index=False)\n",
    "us_canada_cleaned.to_csv(\"resources/us_canada_cleaned.csv\", index=False)"
   ]
  }
 ],
 "metadata": {
  "kernelspec": {
   "display_name": "Python 3",
   "language": "python",
   "name": "python3"
  },
  "language_info": {
   "codemirror_mode": {
    "name": "ipython",
    "version": 3
   },
   "file_extension": ".py",
   "mimetype": "text/x-python",
   "name": "python",
   "nbconvert_exporter": "python",
   "pygments_lexer": "ipython3",
   "version": "3.11.9"
  }
 },
 "nbformat": 4,
 "nbformat_minor": 5
}
